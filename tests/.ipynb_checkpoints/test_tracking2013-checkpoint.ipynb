{
 "cells": [
  {
   "cell_type": "code",
   "execution_count": 2,
   "metadata": {},
   "outputs": [],
   "source": [
    "from __future__ import print_function\n",
    "\n",
    "from numba import jit\n",
    "import platform\n",
    "import os.path\n",
    "import numpy as np\n",
    "import matplotlib.pyplot as plt\n",
    "import matplotlib.patches as patches\n",
    "from skimage import io\n",
    "from sklearn.utils.linear_assignment_ import linear_assignment\n",
    "import glob\n",
    "import time\n",
    "import argparse\n",
    "import _init_paths\n",
    "from utils.nms_highlevel import intersection\n",
    "from utils.icdar import generate_rbox_single\n",
    "from bayes.sort import motion_bayestrack"
   ]
  },
  {
   "cell_type": "code",
   "execution_count": 5,
   "metadata": {},
   "outputs": [
    {
     "name": "stdout",
     "output_type": "stream",
     "text": [
      "Now it knows it's in a remote cluster\n"
     ]
    }
   ],
   "source": [
    "idname1 = '20180921-173054'\n",
    "idname2 = 'model.ckpt-56092'\n",
    "ICDAR2013 = '/media/dragonx/DataLight/ICDAR2013/'\n",
    "ARC = '/media/dragonx/DataStorage/ARC/'\n",
    "idx = 0  # initial frame number\n",
    "if platform.uname()[1] != 'dragonx-H97N-WIFI':\n",
    "    print(\"Now it knows it's in a remote cluster\")\n",
    "    ARC = '/work/cascades/lxiaol9/ARC/'\n",
    "    ICDAR2013 = '/work/cascades/lxiaol9/ARC/EAST/data/ICDAR2013/'\n",
    "#>>>>>>>>>>>>>>>>>>>>>>Sort test video>>>>>>>>>>>>>>>>>>>>>>>>>>>#\n",
    "test_data_path = ICDAR2013+'test/'\n",
    "checkpoint_path = ARC + 'EAST/checkpoints/east/'\n",
    "dets_path = ICDAR2013 + 'test_results1/'\n",
    "out_path = ICDAR2013 + 'tracking_output/'\n",
    "video_set = []\n",
    "for root, dirs, files in os.walk(test_data_path):\n",
    "    for file in files:\n",
    "        if file.endswith('.mp4'):\n",
    "            video_set.append(os.path.splitext(file)[0])\n",
    "index = range(1, 6)"
   ]
  },
  {
   "cell_type": "code",
   "execution_count": 6,
   "metadata": {},
   "outputs": [
    {
     "ename": "NameError",
     "evalue": "name 'parse_args' is not defined",
     "output_type": "error",
     "traceback": [
      "\u001b[0;31m---------------------------------------------------------------------------\u001b[0m",
      "\u001b[0;31mNameError\u001b[0m                                 Traceback (most recent call last)",
      "\u001b[0;32m<ipython-input-6-1a971bc9012c>\u001b[0m in \u001b[0;36m<module>\u001b[0;34m()\u001b[0m\n\u001b[1;32m      2\u001b[0m     \u001b[0;31m# all train\u001b[0m\u001b[0;34m\u001b[0m\u001b[0;34m\u001b[0m\u001b[0m\n\u001b[1;32m      3\u001b[0m     \u001b[0msequences\u001b[0m \u001b[0;34m=\u001b[0m \u001b[0mvideo_set\u001b[0m\u001b[0;34m\u001b[0m\u001b[0m\n\u001b[0;32m----> 4\u001b[0;31m     \u001b[0margs\u001b[0m \u001b[0;34m=\u001b[0m \u001b[0mparse_args\u001b[0m\u001b[0;34m(\u001b[0m\u001b[0;34m)\u001b[0m\u001b[0;34m\u001b[0m\u001b[0m\n\u001b[0m\u001b[1;32m      5\u001b[0m     \u001b[0mdisplay\u001b[0m \u001b[0;34m=\u001b[0m \u001b[0margs\u001b[0m\u001b[0;34m.\u001b[0m\u001b[0mdisplay\u001b[0m\u001b[0;34m\u001b[0m\u001b[0m\n\u001b[1;32m      6\u001b[0m     \u001b[0mphase\u001b[0m \u001b[0;34m=\u001b[0m \u001b[0;34m'train'\u001b[0m\u001b[0;34m\u001b[0m\u001b[0m\n",
      "\u001b[0;31mNameError\u001b[0m: name 'parse_args' is not defined"
     ]
    }
   ],
   "source": [
    "if __name__ == '__main__':\n",
    "    # all train\n",
    "    sequences = video_set\n",
    "    display = False\n",
    "    phase = 'train'\n",
    "    total_time = 0.0\n",
    "    total_frames = 0\n",
    "    colours = np.random.rand(32,3) #used only for display\n",
    "    if(display):\n",
    "        plt.ion()\n",
    "        fig = plt.figure()\n",
    "    for seq in sequences:\n",
    "        mot_tracker = motion_bayestrack() #create instance of the SORT tracker\n",
    "        seq_dets = np.loadtxt(save_path+'%s.txt'%(seq),delimiter=',') #load detections\n",
    "        with open(out_path+'%s.txt'%(seq),'w') as out_file:\n",
    "            print(\"Processing %s.\"%(seq))\n",
    "            # frame info actually comes from the first digit\n",
    "            for frame in range(int(seq_dets[:,0].max())): \n",
    "                dets = seq_dets[seq_dets[:,0]==frame,2:11]#(x_i, y_i, score)\n",
    "                total_frames += 1\n",
    "                start_time = time.time()\n",
    "                trackers = mot_tracker.update(dets)\n",
    "                cycle_time = time.time() - start_time\n",
    "                total_time += cycle_time\n",
    "\n",
    "    print(\"Total Tracking took: %.3f for %d frames or %.1f FPS\"%(total_time,total_frames,total_frames/total_time))\n"
   ]
  },
  {
   "cell_type": "code",
   "execution_count": null,
   "metadata": {},
   "outputs": [],
   "source": []
  }
 ],
 "metadata": {
  "kernelspec": {
   "display_name": "Python 3",
   "language": "python",
   "name": "python3"
  },
  "language_info": {
   "codemirror_mode": {
    "name": "ipython",
    "version": 3
   },
   "file_extension": ".py",
   "mimetype": "text/x-python",
   "name": "python",
   "nbconvert_exporter": "python",
   "pygments_lexer": "ipython3",
   "version": "3.6.4"
  }
 },
 "nbformat": 4,
 "nbformat_minor": 2
}
