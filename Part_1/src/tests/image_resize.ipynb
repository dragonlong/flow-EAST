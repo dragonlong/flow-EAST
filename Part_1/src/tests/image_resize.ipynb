{
 "cells": [
  {
   "cell_type": "code",
   "execution_count": 17,
   "metadata": {},
   "outputs": [],
   "source": [
    "import cv2\n",
    "import os"
   ]
  },
  {
   "cell_type": "code",
   "execution_count": 19,
   "metadata": {},
   "outputs": [],
   "source": [
    "test_data_path = '/work/cascades/lxiaol9/ARC/6DPOSE/keypointnet/keypointnet_trained_model_car/test_images/'\n",
    "img_set = []\n",
    "for root, dirs, files in os.walk(test_data_path):\n",
    "    for file in files:\n",
    "        if file.endswith('.jpg'):\n",
    "            img_set.append(os.path.splitext(file)[0])\n",
    "for index in img_set:\n",
    "    f_name = test_data_path + index + '.jpg'\n",
    "    img = cv2.imread(f_name)\n",
    "    img_n = cv2.resize(img, (128, 128))\n",
    "    f_name_n = test_data_path + index + '.png'\n",
    "    cv2.imwrite(f_name_n, img_n)"
   ]
  },
  {
   "cell_type": "code",
   "execution_count": null,
   "metadata": {},
   "outputs": [],
   "source": []
  }
 ],
 "metadata": {
  "kernelspec": {
   "display_name": "Python 3",
   "language": "python",
   "name": "python3"
  },
  "language_info": {
   "codemirror_mode": {
    "name": "ipython",
    "version": 3
   },
   "file_extension": ".py",
   "mimetype": "text/x-python",
   "name": "python",
   "nbconvert_exporter": "python",
   "pygments_lexer": "ipython3",
   "version": "3.6.6"
  }
 },
 "nbformat": 4,
 "nbformat_minor": 2
}
